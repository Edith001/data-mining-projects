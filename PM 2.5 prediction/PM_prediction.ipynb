{
 "cells": [
  {
   "cell_type": "code",
   "execution_count": 6,
   "metadata": {},
   "outputs": [],
   "source": [
    "import csv\n",
    "import numpy as np\n",
    "from numpy.linalg import inv\n",
    "import random\n",
    "import math\n",
    "import sys"
   ]
  },
  {
   "cell_type": "code",
   "execution_count": 12,
   "metadata": {
    "collapsed": true
   },
   "outputs": [],
   "source": [
    "data = []\n",
    "# 每一個維度儲存一種污染物的資訊\n",
    "for i in range(18):\n",
    "\tdata.append([])"
   ]
  },
  {
   "cell_type": "code",
   "execution_count": 13,
   "metadata": {},
   "outputs": [],
   "source": [
    "n_row = 0\n",
    "text = open('train.csv','r',encoding = 'big5')\n",
    "row = csv.reader(text,delimiter = ',')"
   ]
  },
  {
   "cell_type": "code",
   "execution_count": 14,
   "metadata": {},
   "outputs": [],
   "source": [
    "for r in row:\n",
    "    # 第0列沒有資訊\n",
    "    if n_row != 0:\n",
    "        # 每一列只有第3-27格有值(1天內24小時的數值)\n",
    "        for i in range(3,27):\n",
    "            if r[i] != \"NR\":\n",
    "                data[(n_row-1)%18].append(float(r[i]))\n",
    "            else:\n",
    "                data[(n_row-1)%18].append(float(0))\t\n",
    "    n_row = n_row+1\n",
    "text.close()"
   ]
  },
  {
   "cell_type": "code",
   "execution_count": 15,
   "metadata": {
    "collapsed": true
   },
   "outputs": [],
   "source": [
    "x = []\n",
    "y = []\n",
    "# 每 12 個月\n",
    "for i in range(12):\n",
    "    # 一個月取連續10小時的data可以有471筆\n",
    "    for j in range(471):\n",
    "        x.append([])\n",
    "        # 18種污染物\n",
    "        for t in range(18):\n",
    "            # 連續9小時\n",
    "            for s in range(9):\n",
    "                x[471*i+j].append(data[t][480*i+j+s] )\n",
    "        y.append(data[9][480*i+j+9])\n",
    "x = np.array(x)\n",
    "y = np.array(y)\n",
    "\n",
    "# add square term\n",
    "# x = np.concatenate((x,x**2), axis=1)\n",
    "\n",
    "# add bias\n",
    "x = np.concatenate((np.ones((x.shape[0],1)),x), axis=1)"
   ]
  },
  {
   "cell_type": "code",
   "execution_count": null,
   "metadata": {
    "collapsed": true
   },
   "outputs": [],
   "source": [
    "w = np.zeros(len(x[0]))\n",
    "l_rate = 10\n",
    "repeat = 10000"
   ]
  },
  {
   "cell_type": "code",
   "execution_count": 18,
   "metadata": {},
   "outputs": [],
   "source": [
    "test_x = []\n",
    "n_row = 0\n",
    "text = open('test.csv' ,\"r\")\n",
    "row = csv.reader(text , delimiter= \",\")\n",
    "\n",
    "for r in row:\n",
    "    if n_row %18 == 0:\n",
    "        test_x.append([])\n",
    "        for i in range(2,11):\n",
    "            test_x[n_row//18].append(float(r[i]) )\n",
    "    else :\n",
    "        for i in range(2,11):\n",
    "            if r[i] !=\"NR\":\n",
    "                test_x[n_row//18].append(float(r[i]))\n",
    "            else:\n",
    "                test_x[n_row//18].append(0)\n",
    "    n_row = n_row+1\n",
    "text.close()\n",
    "test_x = np.array(test_x)\n",
    "\n",
    "# add square term\n",
    "# test_x = np.concatenate((test_x,test_x**2), axis=1)\n",
    "\n",
    "# add bias\n",
    "test_x = np.concatenate((np.ones((test_x.shape[0],1)),test_x), axis=1)"
   ]
  },
  {
   "cell_type": "code",
   "execution_count": 19,
   "metadata": {},
   "outputs": [
    {
     "ename": "NameError",
     "evalue": "name 'w' is not defined",
     "output_type": "error",
     "traceback": [
      "\u001b[0;31m---------------------------------------------------------------------------\u001b[0m",
      "\u001b[0;31mNameError\u001b[0m                                 Traceback (most recent call last)",
      "\u001b[0;32m<ipython-input-19-a9f7b9cc8c0e>\u001b[0m in \u001b[0;36m<module>\u001b[0;34m()\u001b[0m\n\u001b[1;32m      2\u001b[0m \u001b[0;32mfor\u001b[0m \u001b[0mi\u001b[0m \u001b[0;32min\u001b[0m \u001b[0mrange\u001b[0m\u001b[0;34m(\u001b[0m\u001b[0mlen\u001b[0m\u001b[0;34m(\u001b[0m\u001b[0mtest_x\u001b[0m\u001b[0;34m)\u001b[0m\u001b[0;34m)\u001b[0m\u001b[0;34m:\u001b[0m\u001b[0;34m\u001b[0m\u001b[0m\n\u001b[1;32m      3\u001b[0m     \u001b[0mans\u001b[0m\u001b[0;34m.\u001b[0m\u001b[0mappend\u001b[0m\u001b[0;34m(\u001b[0m\u001b[0;34m[\u001b[0m\u001b[0;34m\"id_\"\u001b[0m\u001b[0;34m+\u001b[0m\u001b[0mstr\u001b[0m\u001b[0;34m(\u001b[0m\u001b[0mi\u001b[0m\u001b[0;34m)\u001b[0m\u001b[0;34m]\u001b[0m\u001b[0;34m)\u001b[0m\u001b[0;34m\u001b[0m\u001b[0m\n\u001b[0;32m----> 4\u001b[0;31m     \u001b[0ma\u001b[0m \u001b[0;34m=\u001b[0m \u001b[0mnp\u001b[0m\u001b[0;34m.\u001b[0m\u001b[0mdot\u001b[0m\u001b[0;34m(\u001b[0m\u001b[0mw\u001b[0m\u001b[0;34m,\u001b[0m\u001b[0mtest_x\u001b[0m\u001b[0;34m[\u001b[0m\u001b[0mi\u001b[0m\u001b[0;34m]\u001b[0m\u001b[0;34m)\u001b[0m\u001b[0;34m\u001b[0m\u001b[0m\n\u001b[0m\u001b[1;32m      5\u001b[0m     \u001b[0mans\u001b[0m\u001b[0;34m[\u001b[0m\u001b[0mi\u001b[0m\u001b[0;34m]\u001b[0m\u001b[0;34m.\u001b[0m\u001b[0mappend\u001b[0m\u001b[0;34m(\u001b[0m\u001b[0ma\u001b[0m\u001b[0;34m)\u001b[0m\u001b[0;34m\u001b[0m\u001b[0m\n\u001b[1;32m      6\u001b[0m \u001b[0;34m\u001b[0m\u001b[0m\n",
      "\u001b[0;31mNameError\u001b[0m: name 'w' is not defined"
     ]
    }
   ],
   "source": [
    "ans = []\n",
    "for i in range(len(test_x)):\n",
    "    ans.append([\"id_\"+str(i)])\n",
    "    a = np.dot(w,test_x[i])\n",
    "    ans[i].append(a)\n",
    "\n",
    "filename = \"result/predict.csv\"\n",
    "text = open(filename, \"w+\")\n",
    "s = csv.writer(text,delimiter=',',lineterminator='\\n')\n",
    "s.writerow([\"id\",\"value\"])\n",
    "for i in range(len(ans)):\n",
    "    s.writerow(ans[i]) \n",
    "text.close()"
   ]
  }
 ],
 "metadata": {
  "kernelspec": {
   "display_name": "Python 3",
   "language": "python",
   "name": "python3"
  },
  "language_info": {
   "codemirror_mode": {
    "name": "ipython",
    "version": 3
   },
   "file_extension": ".py",
   "mimetype": "text/x-python",
   "name": "python",
   "nbconvert_exporter": "python",
   "pygments_lexer": "ipython3",
   "version": "3.6.3"
  }
 },
 "nbformat": 4,
 "nbformat_minor": 2
}
